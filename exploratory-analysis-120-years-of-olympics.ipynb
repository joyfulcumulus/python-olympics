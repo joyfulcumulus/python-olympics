{
 "cells": [
  {
   "cell_type": "markdown",
   "id": "024846f5",
   "metadata": {
    "papermill": {
     "duration": 0.009199,
     "end_time": "2024-08-19T05:17:29.646336",
     "exception": false,
     "start_time": "2024-08-19T05:17:29.637137",
     "status": "completed"
    },
    "tags": []
   },
   "source": [
    "# Preparations\n",
    "Load packages and data"
   ]
  },
  {
   "cell_type": "code",
   "execution_count": 1,
   "id": "5b37ca8c",
   "metadata": {
    "execution": {
     "iopub.execute_input": "2024-08-19T05:17:29.665606Z",
     "iopub.status.busy": "2024-08-19T05:17:29.665195Z",
     "iopub.status.idle": "2024-08-19T05:17:32.186702Z",
     "shell.execute_reply": "2024-08-19T05:17:32.185224Z"
    },
    "papermill": {
     "duration": 2.534729,
     "end_time": "2024-08-19T05:17:32.189786",
     "exception": false,
     "start_time": "2024-08-19T05:17:29.655057",
     "status": "completed"
    },
    "tags": []
   },
   "outputs": [
    {
     "name": "stdout",
     "output_type": "stream",
     "text": [
      "Setup Complete\n"
     ]
    }
   ],
   "source": [
    "import pandas as pd\n",
    "pd.set_option(\"display.max_rows\", 10)\n",
    "pd.plotting.register_matplotlib_converters()\n",
    "import matplotlib.pyplot as plt\n",
    "%matplotlib inline\n",
    "import seaborn as sns\n",
    "print(\"Setup Complete\")"
   ]
  },
  {
   "cell_type": "code",
   "execution_count": 2,
   "id": "64e7ea6e",
   "metadata": {
    "execution": {
     "iopub.execute_input": "2024-08-19T05:17:32.209027Z",
     "iopub.status.busy": "2024-08-19T05:17:32.208365Z",
     "iopub.status.idle": "2024-08-19T05:17:33.796940Z",
     "shell.execute_reply": "2024-08-19T05:17:33.795741Z"
    },
    "papermill": {
     "duration": 1.601954,
     "end_time": "2024-08-19T05:17:33.800287",
     "exception": false,
     "start_time": "2024-08-19T05:17:32.198333",
     "status": "completed"
    },
    "tags": []
   },
   "outputs": [],
   "source": [
    "filepath = \"/kaggle/input/120-years-of-olympic-history-athletes-and-results/athlete_events.csv\"\n",
    "olympics_data = pd.read_csv(filepath, index_col=\"ID\")"
   ]
  },
  {
   "cell_type": "markdown",
   "id": "aa185649",
   "metadata": {
    "papermill": {
     "duration": 0.008262,
     "end_time": "2024-08-19T05:17:33.817130",
     "exception": false,
     "start_time": "2024-08-19T05:17:33.808868",
     "status": "completed"
    },
    "tags": []
   },
   "source": [
    "# Basic Dataset Exploration\n",
    "\n",
    "Took a look at how the raw data looked like"
   ]
  },
  {
   "cell_type": "code",
   "execution_count": 3,
   "id": "21f462ef",
   "metadata": {
    "execution": {
     "iopub.execute_input": "2024-08-19T05:17:33.837133Z",
     "iopub.status.busy": "2024-08-19T05:17:33.835971Z",
     "iopub.status.idle": "2024-08-19T05:17:33.863632Z",
     "shell.execute_reply": "2024-08-19T05:17:33.862451Z"
    },
    "papermill": {
     "duration": 0.040513,
     "end_time": "2024-08-19T05:17:33.866330",
     "exception": false,
     "start_time": "2024-08-19T05:17:33.825817",
     "status": "completed"
    },
    "tags": []
   },
   "outputs": [
    {
     "data": {
      "text/html": [
       "<div>\n",
       "<style scoped>\n",
       "    .dataframe tbody tr th:only-of-type {\n",
       "        vertical-align: middle;\n",
       "    }\n",
       "\n",
       "    .dataframe tbody tr th {\n",
       "        vertical-align: top;\n",
       "    }\n",
       "\n",
       "    .dataframe thead th {\n",
       "        text-align: right;\n",
       "    }\n",
       "</style>\n",
       "<table border=\"1\" class=\"dataframe\">\n",
       "  <thead>\n",
       "    <tr style=\"text-align: right;\">\n",
       "      <th></th>\n",
       "      <th>Name</th>\n",
       "      <th>Sex</th>\n",
       "      <th>Age</th>\n",
       "      <th>Height</th>\n",
       "      <th>Weight</th>\n",
       "      <th>Team</th>\n",
       "      <th>NOC</th>\n",
       "      <th>Games</th>\n",
       "      <th>Year</th>\n",
       "      <th>Season</th>\n",
       "      <th>City</th>\n",
       "      <th>Sport</th>\n",
       "      <th>Event</th>\n",
       "      <th>Medal</th>\n",
       "    </tr>\n",
       "    <tr>\n",
       "      <th>ID</th>\n",
       "      <th></th>\n",
       "      <th></th>\n",
       "      <th></th>\n",
       "      <th></th>\n",
       "      <th></th>\n",
       "      <th></th>\n",
       "      <th></th>\n",
       "      <th></th>\n",
       "      <th></th>\n",
       "      <th></th>\n",
       "      <th></th>\n",
       "      <th></th>\n",
       "      <th></th>\n",
       "      <th></th>\n",
       "    </tr>\n",
       "  </thead>\n",
       "  <tbody>\n",
       "    <tr>\n",
       "      <th>1</th>\n",
       "      <td>A Dijiang</td>\n",
       "      <td>M</td>\n",
       "      <td>24.0</td>\n",
       "      <td>180.0</td>\n",
       "      <td>80.0</td>\n",
       "      <td>China</td>\n",
       "      <td>CHN</td>\n",
       "      <td>1992 Summer</td>\n",
       "      <td>1992</td>\n",
       "      <td>Summer</td>\n",
       "      <td>Barcelona</td>\n",
       "      <td>Basketball</td>\n",
       "      <td>Basketball Men's Basketball</td>\n",
       "      <td>NaN</td>\n",
       "    </tr>\n",
       "    <tr>\n",
       "      <th>2</th>\n",
       "      <td>A Lamusi</td>\n",
       "      <td>M</td>\n",
       "      <td>23.0</td>\n",
       "      <td>170.0</td>\n",
       "      <td>60.0</td>\n",
       "      <td>China</td>\n",
       "      <td>CHN</td>\n",
       "      <td>2012 Summer</td>\n",
       "      <td>2012</td>\n",
       "      <td>Summer</td>\n",
       "      <td>London</td>\n",
       "      <td>Judo</td>\n",
       "      <td>Judo Men's Extra-Lightweight</td>\n",
       "      <td>NaN</td>\n",
       "    </tr>\n",
       "    <tr>\n",
       "      <th>3</th>\n",
       "      <td>Gunnar Nielsen Aaby</td>\n",
       "      <td>M</td>\n",
       "      <td>24.0</td>\n",
       "      <td>NaN</td>\n",
       "      <td>NaN</td>\n",
       "      <td>Denmark</td>\n",
       "      <td>DEN</td>\n",
       "      <td>1920 Summer</td>\n",
       "      <td>1920</td>\n",
       "      <td>Summer</td>\n",
       "      <td>Antwerpen</td>\n",
       "      <td>Football</td>\n",
       "      <td>Football Men's Football</td>\n",
       "      <td>NaN</td>\n",
       "    </tr>\n",
       "    <tr>\n",
       "      <th>4</th>\n",
       "      <td>Edgar Lindenau Aabye</td>\n",
       "      <td>M</td>\n",
       "      <td>34.0</td>\n",
       "      <td>NaN</td>\n",
       "      <td>NaN</td>\n",
       "      <td>Denmark/Sweden</td>\n",
       "      <td>DEN</td>\n",
       "      <td>1900 Summer</td>\n",
       "      <td>1900</td>\n",
       "      <td>Summer</td>\n",
       "      <td>Paris</td>\n",
       "      <td>Tug-Of-War</td>\n",
       "      <td>Tug-Of-War Men's Tug-Of-War</td>\n",
       "      <td>Gold</td>\n",
       "    </tr>\n",
       "    <tr>\n",
       "      <th>5</th>\n",
       "      <td>Christine Jacoba Aaftink</td>\n",
       "      <td>F</td>\n",
       "      <td>21.0</td>\n",
       "      <td>185.0</td>\n",
       "      <td>82.0</td>\n",
       "      <td>Netherlands</td>\n",
       "      <td>NED</td>\n",
       "      <td>1988 Winter</td>\n",
       "      <td>1988</td>\n",
       "      <td>Winter</td>\n",
       "      <td>Calgary</td>\n",
       "      <td>Speed Skating</td>\n",
       "      <td>Speed Skating Women's 500 metres</td>\n",
       "      <td>NaN</td>\n",
       "    </tr>\n",
       "  </tbody>\n",
       "</table>\n",
       "</div>"
      ],
      "text/plain": [
       "                        Name Sex   Age  Height  Weight            Team  NOC  \\\n",
       "ID                                                                            \n",
       "1                  A Dijiang   M  24.0   180.0    80.0           China  CHN   \n",
       "2                   A Lamusi   M  23.0   170.0    60.0           China  CHN   \n",
       "3        Gunnar Nielsen Aaby   M  24.0     NaN     NaN         Denmark  DEN   \n",
       "4       Edgar Lindenau Aabye   M  34.0     NaN     NaN  Denmark/Sweden  DEN   \n",
       "5   Christine Jacoba Aaftink   F  21.0   185.0    82.0     Netherlands  NED   \n",
       "\n",
       "          Games  Year  Season       City          Sport  \\\n",
       "ID                                                        \n",
       "1   1992 Summer  1992  Summer  Barcelona     Basketball   \n",
       "2   2012 Summer  2012  Summer     London           Judo   \n",
       "3   1920 Summer  1920  Summer  Antwerpen       Football   \n",
       "4   1900 Summer  1900  Summer      Paris     Tug-Of-War   \n",
       "5   1988 Winter  1988  Winter    Calgary  Speed Skating   \n",
       "\n",
       "                               Event Medal  \n",
       "ID                                          \n",
       "1        Basketball Men's Basketball   NaN  \n",
       "2       Judo Men's Extra-Lightweight   NaN  \n",
       "3            Football Men's Football   NaN  \n",
       "4        Tug-Of-War Men's Tug-Of-War  Gold  \n",
       "5   Speed Skating Women's 500 metres   NaN  "
      ]
     },
     "execution_count": 3,
     "metadata": {},
     "output_type": "execute_result"
    }
   ],
   "source": [
    "olympics_data.head()"
   ]
  },
  {
   "cell_type": "markdown",
   "id": "979bd7de",
   "metadata": {
    "papermill": {
     "duration": 0.008917,
     "end_time": "2024-08-19T05:17:33.884465",
     "exception": false,
     "start_time": "2024-08-19T05:17:33.875548",
     "status": "completed"
    },
    "tags": []
   },
   "source": [
    "Tabulated the no. of rows of data, and columns. There are 271,116 rows of athlete data, and 14 columns (excluding the index)\n",
    "The data types also are \"object\" and \"float64\""
   ]
  },
  {
   "cell_type": "code",
   "execution_count": 4,
   "id": "531cdc25",
   "metadata": {
    "execution": {
     "iopub.execute_input": "2024-08-19T05:17:33.904984Z",
     "iopub.status.busy": "2024-08-19T05:17:33.904559Z",
     "iopub.status.idle": "2024-08-19T05:17:33.912524Z",
     "shell.execute_reply": "2024-08-19T05:17:33.911104Z"
    },
    "papermill": {
     "duration": 0.021487,
     "end_time": "2024-08-19T05:17:33.915218",
     "exception": false,
     "start_time": "2024-08-19T05:17:33.893731",
     "status": "completed"
    },
    "tags": []
   },
   "outputs": [
    {
     "data": {
      "text/plain": [
       "(271116, 14)"
      ]
     },
     "execution_count": 4,
     "metadata": {},
     "output_type": "execute_result"
    }
   ],
   "source": [
    "olympics_data.shape"
   ]
  },
  {
   "cell_type": "code",
   "execution_count": 5,
   "id": "fb465ff0",
   "metadata": {
    "execution": {
     "iopub.execute_input": "2024-08-19T05:17:33.935079Z",
     "iopub.status.busy": "2024-08-19T05:17:33.934580Z",
     "iopub.status.idle": "2024-08-19T05:17:33.945070Z",
     "shell.execute_reply": "2024-08-19T05:17:33.943607Z"
    },
    "papermill": {
     "duration": 0.02371,
     "end_time": "2024-08-19T05:17:33.947941",
     "exception": false,
     "start_time": "2024-08-19T05:17:33.924231",
     "status": "completed"
    },
    "tags": []
   },
   "outputs": [
    {
     "data": {
      "text/plain": [
       "Name       object\n",
       "Sex        object\n",
       "Age       float64\n",
       "Height    float64\n",
       "Weight    float64\n",
       "           ...   \n",
       "Season     object\n",
       "City       object\n",
       "Sport      object\n",
       "Event      object\n",
       "Medal      object\n",
       "Length: 14, dtype: object"
      ]
     },
     "execution_count": 5,
     "metadata": {},
     "output_type": "execute_result"
    }
   ],
   "source": [
    "olympics_data.dtypes"
   ]
  },
  {
   "cell_type": "markdown",
   "id": "c2989de6",
   "metadata": {
    "papermill": {
     "duration": 0.009257,
     "end_time": "2024-08-19T05:17:33.966602",
     "exception": false,
     "start_time": "2024-08-19T05:17:33.957345",
     "status": "completed"
    },
    "tags": []
   },
   "source": [
    "## Basic Information\n",
    "* Count: Not all rows have complete data (namely: Age, Height, Weight, Medal). For Medal this could be reasonable construed as the athelete did not win any medals\n",
    "* Name: Some people have same name, since unique count =/= count. As mentioned in the dataset description, ID column uniquely identifies athletes\n",
    "* Sex: 2 types \"M\" or \"F\"\n",
    "* Age: Average is 25 years old, youngest is 10 years old, and max is 97 years old. Upon checking it is due to certain sports like : Art Competitions, Shooting, Sailing that are more on precision / expression\n",
    "* Weight: Average is 71kg, with min 25kg and max 214kg. This would probably be sports dependent\n",
    "* Teams and NOCs are not the same. An NOC may have brought multiple Teams to compete (e.g. United States', 'Vesper Boat Club', 'New York Athletic Club 2-4'). This data does not seem useful\n",
    "* Season: \"Summer\" or \"Winter\"\n",
    "* Sport: A sport may have multiple events (e.g. Sport = Judo. Events = Judo Men's Extra-Lightweight\", \"Judo Men's Half-Middleweight\",\n",
    "       \"Judo Men's Lightweight\", \"Judo Men's Heavyweight\"...)"
   ]
  },
  {
   "cell_type": "code",
   "execution_count": 6,
   "id": "fcdf313b",
   "metadata": {
    "execution": {
     "iopub.execute_input": "2024-08-19T05:17:33.988793Z",
     "iopub.status.busy": "2024-08-19T05:17:33.987217Z",
     "iopub.status.idle": "2024-08-19T05:17:35.023676Z",
     "shell.execute_reply": "2024-08-19T05:17:35.022272Z"
    },
    "papermill": {
     "duration": 1.052106,
     "end_time": "2024-08-19T05:17:35.028297",
     "exception": false,
     "start_time": "2024-08-19T05:17:33.976191",
     "status": "completed"
    },
    "tags": []
   },
   "outputs": [
    {
     "data": {
      "text/html": [
       "<div>\n",
       "<style scoped>\n",
       "    .dataframe tbody tr th:only-of-type {\n",
       "        vertical-align: middle;\n",
       "    }\n",
       "\n",
       "    .dataframe tbody tr th {\n",
       "        vertical-align: top;\n",
       "    }\n",
       "\n",
       "    .dataframe thead th {\n",
       "        text-align: right;\n",
       "    }\n",
       "</style>\n",
       "<table border=\"1\" class=\"dataframe\">\n",
       "  <thead>\n",
       "    <tr style=\"text-align: right;\">\n",
       "      <th></th>\n",
       "      <th>Name</th>\n",
       "      <th>Sex</th>\n",
       "      <th>Age</th>\n",
       "      <th>Height</th>\n",
       "      <th>Weight</th>\n",
       "      <th>Team</th>\n",
       "      <th>NOC</th>\n",
       "      <th>Games</th>\n",
       "      <th>Year</th>\n",
       "      <th>Season</th>\n",
       "      <th>City</th>\n",
       "      <th>Sport</th>\n",
       "      <th>Event</th>\n",
       "      <th>Medal</th>\n",
       "    </tr>\n",
       "  </thead>\n",
       "  <tbody>\n",
       "    <tr>\n",
       "      <th>count</th>\n",
       "      <td>271116</td>\n",
       "      <td>271116</td>\n",
       "      <td>261642.000000</td>\n",
       "      <td>210945.00000</td>\n",
       "      <td>208241.000000</td>\n",
       "      <td>271116</td>\n",
       "      <td>271116</td>\n",
       "      <td>271116</td>\n",
       "      <td>271116.00000</td>\n",
       "      <td>271116</td>\n",
       "      <td>271116</td>\n",
       "      <td>271116</td>\n",
       "      <td>271116</td>\n",
       "      <td>39783</td>\n",
       "    </tr>\n",
       "    <tr>\n",
       "      <th>unique</th>\n",
       "      <td>134732</td>\n",
       "      <td>2</td>\n",
       "      <td>NaN</td>\n",
       "      <td>NaN</td>\n",
       "      <td>NaN</td>\n",
       "      <td>1184</td>\n",
       "      <td>230</td>\n",
       "      <td>51</td>\n",
       "      <td>NaN</td>\n",
       "      <td>2</td>\n",
       "      <td>42</td>\n",
       "      <td>66</td>\n",
       "      <td>765</td>\n",
       "      <td>3</td>\n",
       "    </tr>\n",
       "    <tr>\n",
       "      <th>top</th>\n",
       "      <td>Robert Tait McKenzie</td>\n",
       "      <td>M</td>\n",
       "      <td>NaN</td>\n",
       "      <td>NaN</td>\n",
       "      <td>NaN</td>\n",
       "      <td>United States</td>\n",
       "      <td>USA</td>\n",
       "      <td>2000 Summer</td>\n",
       "      <td>NaN</td>\n",
       "      <td>Summer</td>\n",
       "      <td>London</td>\n",
       "      <td>Athletics</td>\n",
       "      <td>Football Men's Football</td>\n",
       "      <td>Gold</td>\n",
       "    </tr>\n",
       "    <tr>\n",
       "      <th>freq</th>\n",
       "      <td>58</td>\n",
       "      <td>196594</td>\n",
       "      <td>NaN</td>\n",
       "      <td>NaN</td>\n",
       "      <td>NaN</td>\n",
       "      <td>17847</td>\n",
       "      <td>18853</td>\n",
       "      <td>13821</td>\n",
       "      <td>NaN</td>\n",
       "      <td>222552</td>\n",
       "      <td>22426</td>\n",
       "      <td>38624</td>\n",
       "      <td>5733</td>\n",
       "      <td>13372</td>\n",
       "    </tr>\n",
       "    <tr>\n",
       "      <th>mean</th>\n",
       "      <td>NaN</td>\n",
       "      <td>NaN</td>\n",
       "      <td>25.556898</td>\n",
       "      <td>175.33897</td>\n",
       "      <td>70.702393</td>\n",
       "      <td>NaN</td>\n",
       "      <td>NaN</td>\n",
       "      <td>NaN</td>\n",
       "      <td>1978.37848</td>\n",
       "      <td>NaN</td>\n",
       "      <td>NaN</td>\n",
       "      <td>NaN</td>\n",
       "      <td>NaN</td>\n",
       "      <td>NaN</td>\n",
       "    </tr>\n",
       "    <tr>\n",
       "      <th>...</th>\n",
       "      <td>...</td>\n",
       "      <td>...</td>\n",
       "      <td>...</td>\n",
       "      <td>...</td>\n",
       "      <td>...</td>\n",
       "      <td>...</td>\n",
       "      <td>...</td>\n",
       "      <td>...</td>\n",
       "      <td>...</td>\n",
       "      <td>...</td>\n",
       "      <td>...</td>\n",
       "      <td>...</td>\n",
       "      <td>...</td>\n",
       "      <td>...</td>\n",
       "    </tr>\n",
       "    <tr>\n",
       "      <th>min</th>\n",
       "      <td>NaN</td>\n",
       "      <td>NaN</td>\n",
       "      <td>10.000000</td>\n",
       "      <td>127.00000</td>\n",
       "      <td>25.000000</td>\n",
       "      <td>NaN</td>\n",
       "      <td>NaN</td>\n",
       "      <td>NaN</td>\n",
       "      <td>1896.00000</td>\n",
       "      <td>NaN</td>\n",
       "      <td>NaN</td>\n",
       "      <td>NaN</td>\n",
       "      <td>NaN</td>\n",
       "      <td>NaN</td>\n",
       "    </tr>\n",
       "    <tr>\n",
       "      <th>25%</th>\n",
       "      <td>NaN</td>\n",
       "      <td>NaN</td>\n",
       "      <td>21.000000</td>\n",
       "      <td>168.00000</td>\n",
       "      <td>60.000000</td>\n",
       "      <td>NaN</td>\n",
       "      <td>NaN</td>\n",
       "      <td>NaN</td>\n",
       "      <td>1960.00000</td>\n",
       "      <td>NaN</td>\n",
       "      <td>NaN</td>\n",
       "      <td>NaN</td>\n",
       "      <td>NaN</td>\n",
       "      <td>NaN</td>\n",
       "    </tr>\n",
       "    <tr>\n",
       "      <th>50%</th>\n",
       "      <td>NaN</td>\n",
       "      <td>NaN</td>\n",
       "      <td>24.000000</td>\n",
       "      <td>175.00000</td>\n",
       "      <td>70.000000</td>\n",
       "      <td>NaN</td>\n",
       "      <td>NaN</td>\n",
       "      <td>NaN</td>\n",
       "      <td>1988.00000</td>\n",
       "      <td>NaN</td>\n",
       "      <td>NaN</td>\n",
       "      <td>NaN</td>\n",
       "      <td>NaN</td>\n",
       "      <td>NaN</td>\n",
       "    </tr>\n",
       "    <tr>\n",
       "      <th>75%</th>\n",
       "      <td>NaN</td>\n",
       "      <td>NaN</td>\n",
       "      <td>28.000000</td>\n",
       "      <td>183.00000</td>\n",
       "      <td>79.000000</td>\n",
       "      <td>NaN</td>\n",
       "      <td>NaN</td>\n",
       "      <td>NaN</td>\n",
       "      <td>2002.00000</td>\n",
       "      <td>NaN</td>\n",
       "      <td>NaN</td>\n",
       "      <td>NaN</td>\n",
       "      <td>NaN</td>\n",
       "      <td>NaN</td>\n",
       "    </tr>\n",
       "    <tr>\n",
       "      <th>max</th>\n",
       "      <td>NaN</td>\n",
       "      <td>NaN</td>\n",
       "      <td>97.000000</td>\n",
       "      <td>226.00000</td>\n",
       "      <td>214.000000</td>\n",
       "      <td>NaN</td>\n",
       "      <td>NaN</td>\n",
       "      <td>NaN</td>\n",
       "      <td>2016.00000</td>\n",
       "      <td>NaN</td>\n",
       "      <td>NaN</td>\n",
       "      <td>NaN</td>\n",
       "      <td>NaN</td>\n",
       "      <td>NaN</td>\n",
       "    </tr>\n",
       "  </tbody>\n",
       "</table>\n",
       "<p>11 rows × 14 columns</p>\n",
       "</div>"
      ],
      "text/plain": [
       "                        Name     Sex            Age        Height  \\\n",
       "count                 271116  271116  261642.000000  210945.00000   \n",
       "unique                134732       2            NaN           NaN   \n",
       "top     Robert Tait McKenzie       M            NaN           NaN   \n",
       "freq                      58  196594            NaN           NaN   \n",
       "mean                     NaN     NaN      25.556898     175.33897   \n",
       "...                      ...     ...            ...           ...   \n",
       "min                      NaN     NaN      10.000000     127.00000   \n",
       "25%                      NaN     NaN      21.000000     168.00000   \n",
       "50%                      NaN     NaN      24.000000     175.00000   \n",
       "75%                      NaN     NaN      28.000000     183.00000   \n",
       "max                      NaN     NaN      97.000000     226.00000   \n",
       "\n",
       "               Weight           Team     NOC        Games          Year  \\\n",
       "count   208241.000000         271116  271116       271116  271116.00000   \n",
       "unique            NaN           1184     230           51           NaN   \n",
       "top               NaN  United States     USA  2000 Summer           NaN   \n",
       "freq              NaN          17847   18853        13821           NaN   \n",
       "mean        70.702393            NaN     NaN          NaN    1978.37848   \n",
       "...               ...            ...     ...          ...           ...   \n",
       "min         25.000000            NaN     NaN          NaN    1896.00000   \n",
       "25%         60.000000            NaN     NaN          NaN    1960.00000   \n",
       "50%         70.000000            NaN     NaN          NaN    1988.00000   \n",
       "75%         79.000000            NaN     NaN          NaN    2002.00000   \n",
       "max        214.000000            NaN     NaN          NaN    2016.00000   \n",
       "\n",
       "        Season    City      Sport                    Event  Medal  \n",
       "count   271116  271116     271116                   271116  39783  \n",
       "unique       2      42         66                      765      3  \n",
       "top     Summer  London  Athletics  Football Men's Football   Gold  \n",
       "freq    222552   22426      38624                     5733  13372  \n",
       "mean       NaN     NaN        NaN                      NaN    NaN  \n",
       "...        ...     ...        ...                      ...    ...  \n",
       "min        NaN     NaN        NaN                      NaN    NaN  \n",
       "25%        NaN     NaN        NaN                      NaN    NaN  \n",
       "50%        NaN     NaN        NaN                      NaN    NaN  \n",
       "75%        NaN     NaN        NaN                      NaN    NaN  \n",
       "max        NaN     NaN        NaN                      NaN    NaN  \n",
       "\n",
       "[11 rows x 14 columns]"
      ]
     },
     "execution_count": 6,
     "metadata": {},
     "output_type": "execute_result"
    }
   ],
   "source": [
    "olympics_data.describe(include='all')"
   ]
  },
  {
   "cell_type": "markdown",
   "id": "af35c8a1",
   "metadata": {
    "papermill": {
     "duration": 0.014452,
     "end_time": "2024-08-19T05:17:35.058014",
     "exception": false,
     "start_time": "2024-08-19T05:17:35.043562",
     "status": "completed"
    },
    "tags": []
   },
   "source": [
    "An example of a NOC with multiple Teams. NOC USA has multiple teams (e.g. Angelita, Rush IV, Boston Archers).\n",
    "These seem to be informal names that should not be usable in our analysis."
   ]
  },
  {
   "cell_type": "code",
   "execution_count": 7,
   "id": "ff9b5cd8",
   "metadata": {
    "execution": {
     "iopub.execute_input": "2024-08-19T05:17:35.088309Z",
     "iopub.status.busy": "2024-08-19T05:17:35.087864Z",
     "iopub.status.idle": "2024-08-19T05:17:35.182531Z",
     "shell.execute_reply": "2024-08-19T05:17:35.181118Z"
    },
    "papermill": {
     "duration": 0.113496,
     "end_time": "2024-08-19T05:17:35.185334",
     "exception": false,
     "start_time": "2024-08-19T05:17:35.071838",
     "status": "completed"
    },
    "tags": []
   },
   "outputs": [
    {
     "data": {
      "text/plain": [
       "array(['United States', 'Vesper Boat Club', 'New York Athletic Club #2-4',\n",
       "       'Mystery', 'United States-1', 'United States-2',\n",
       "       'Mound City Rowing Club-2', 'La Salle Turnverein, Chicago',\n",
       "       'Gallant', 'United States-3', \"Christian Brothers' College-1\",\n",
       "       'Passaic Turnverein, Passaic', 'Bingo',\n",
       "       'Chicago Athletic Association-2', 'Widgeon',\n",
       "       'Davenport Turngemeinde, Davenport',\n",
       "       'Norwegier Turnverein, Brooklyn', 'Turnverein Vorwrts, Cleveland',\n",
       "       'New York Turnverein, New York', 'Angelita', 'United States-10',\n",
       "       'St. Rose-2', 'New York Athletic Club-1',\n",
       "       'St. Louis Southwest Turnverein #1-2', 'Chicago Archers',\n",
       "       'Rush IV', 'Boston Archers', 'Western Rowing Club-3',\n",
       "       'United States Golf Association-3',\n",
       "       'Trans-Mississippi Golf Association-2', 'New York Athletic Club-4',\n",
       "       'Complex II', 'United States-9', 'Babe', 'Cincinnati Archers',\n",
       "       'United States-6', 'Western Golf Association-1',\n",
       "       'New York Athletic Club #1-1', 'United States-7',\n",
       "       'United States/France', 'Aphrodite',\n",
       "       'Concordia Turnverein, St Louis', 'Century Boat Club-1',\n",
       "       'St. Louis Amateur Athletic Association', 'United States-14',\n",
       "       'Central Turnverein, Chicago', 'Rhythm',\n",
       "       'Turnverein Vorwrts, Chicago', 'Spirit III', 'Llanoria',\n",
       "       'Missouri Athletic Club-3', 'Seawanhaka Boat Club-1',\n",
       "       'Milwaukee Athletic Club-1', 'St. Louis Southwest Turnverein #2-3',\n",
       "       'Socialer Turnverein, Detroit', 'United States-4',\n",
       "       'Germany/United States', 'Jupiter',\n",
       "       'Philadelphia Turngemeinde, Philadelphia', 'Shrew II',\n",
       "       'Chicago Athletic Association', 'Milwaukee Turnverein, Milwaukee',\n",
       "       'Ravenswood Boat Club-2', 'Skidoo', 'Minotaur', 'United States-5',\n",
       "       'Angerburg', 'United States-8', 'United States/Great Britain',\n",
       "       'Foxhunters Hurlingham', 'Mythilus', 'Spirit VI',\n",
       "       'South St Louis Turnverein, St Louis', 'Kathleen',\n",
       "       'United States-12', 'Frimousse', 'Potomac Archers',\n",
       "       'BLO Polo Club, Rugby', 'Brentina', 'Three Star Too',\n",
       "       'United States-11', 'Frieda', 'Atalanta Boat Club-1',\n",
       "       'Atalanta Boat Club-2', 'New York Athletic Club', 'Tineke',\n",
       "       'Ravel', 'Margaret', 'Comanche', 'Independent Rowing Club-3',\n",
       "       'Union des Socits Franais de Sports Athletiques',\n",
       "       'United States-13', 'Vim III', 'Hilarius', 'Glider', 'Formosa',\n",
       "       'A North American Team'], dtype=object)"
      ]
     },
     "execution_count": 7,
     "metadata": {},
     "output_type": "execute_result"
    }
   ],
   "source": [
    "usa_noc = olympics_data.loc[olympics_data.NOC == 'USA']\n",
    "usa_noc.Team.unique()"
   ]
  },
  {
   "cell_type": "markdown",
   "id": "cd6db5d3",
   "metadata": {
    "papermill": {
     "duration": 0.009267,
     "end_time": "2024-08-19T05:17:35.205262",
     "exception": false,
     "start_time": "2024-08-19T05:17:35.195995",
     "status": "completed"
    },
    "tags": []
   },
   "source": [
    "An example of a Sport (Judo) with multiple Events"
   ]
  },
  {
   "cell_type": "code",
   "execution_count": 8,
   "id": "e851ac7b",
   "metadata": {
    "execution": {
     "iopub.execute_input": "2024-08-19T05:17:35.226875Z",
     "iopub.status.busy": "2024-08-19T05:17:35.226297Z",
     "iopub.status.idle": "2024-08-19T05:17:35.293607Z",
     "shell.execute_reply": "2024-08-19T05:17:35.292154Z"
    },
    "papermill": {
     "duration": 0.081612,
     "end_time": "2024-08-19T05:17:35.296447",
     "exception": false,
     "start_time": "2024-08-19T05:17:35.214835",
     "status": "completed"
    },
    "tags": []
   },
   "outputs": [
    {
     "data": {
      "text/plain": [
       "array([\"Judo Men's Extra-Lightweight\", \"Judo Men's Half-Middleweight\",\n",
       "       \"Judo Men's Lightweight\", \"Judo Men's Heavyweight\",\n",
       "       \"Judo Women's Half-Middleweight\", \"Judo Women's Half-Heavyweight\",\n",
       "       \"Judo Men's Open Class\", \"Judo Men's Middleweight\",\n",
       "       \"Judo Men's Half-Lightweight\", \"Judo Men's Half-Heavyweight\",\n",
       "       \"Judo Women's Half-Lightweight\", \"Judo Women's Heavyweight\",\n",
       "       \"Judo Women's Extra-Lightweight\", \"Judo Women's Middleweight\",\n",
       "       \"Judo Women's Lightweight\"], dtype=object)"
      ]
     },
     "execution_count": 8,
     "metadata": {},
     "output_type": "execute_result"
    }
   ],
   "source": [
    "filtered_judo = olympics_data.loc[olympics_data.Sport == 'Judo']\n",
    "filtered_judo.Event.unique()"
   ]
  },
  {
   "cell_type": "markdown",
   "id": "05e0ef4a",
   "metadata": {
    "papermill": {
     "duration": 0.009661,
     "end_time": "2024-08-19T05:17:35.316075",
     "exception": false,
     "start_time": "2024-08-19T05:17:35.306414",
     "status": "completed"
    },
    "tags": []
   },
   "source": [
    "## Checking the validity of large \"Age\" data\n",
    "* There are a number of participants above age 60\n",
    "* I plotted a stripplot to see what Sports these elderly atheletes are engaged in: Art Competitions, Sailing, Equestrianism, Fencing, Archery, Roque\n",
    "* As Art Competitions are no longer considered a sport in the Olympic games, I will remove them when doing further analysis."
   ]
  },
  {
   "cell_type": "code",
   "execution_count": 9,
   "id": "b4e87538",
   "metadata": {
    "execution": {
     "iopub.execute_input": "2024-08-19T05:17:35.337538Z",
     "iopub.status.busy": "2024-08-19T05:17:35.337155Z",
     "iopub.status.idle": "2024-08-19T05:17:36.788072Z",
     "shell.execute_reply": "2024-08-19T05:17:36.786769Z"
    },
    "papermill": {
     "duration": 1.465306,
     "end_time": "2024-08-19T05:17:36.791191",
     "exception": false,
     "start_time": "2024-08-19T05:17:35.325885",
     "status": "completed"
    },
    "tags": []
   },
   "outputs": [
    {
     "name": "stderr",
     "output_type": "stream",
     "text": [
      "/opt/conda/lib/python3.10/site-packages/seaborn/_oldcore.py:1119: FutureWarning: use_inf_as_na option is deprecated and will be removed in a future version. Convert inf values to NaN before operating instead.\n",
      "  with pd.option_context('mode.use_inf_as_na', True):\n"
     ]
    },
    {
     "data": {
      "text/plain": [
       "<Axes: xlabel='Age', ylabel='Count'>"
      ]
     },
     "execution_count": 9,
     "metadata": {},
     "output_type": "execute_result"
    },
    {
     "data": {
      "image/png": "[encoded data removed]",
      "text/plain": [
       "<Figure size 640x480 with 1 Axes>"
      ]
     },
     "metadata": {},
     "output_type": "display_data"
    }
   ],
   "source": [
    "sns.histplot(olympics_data['Age'])"
   ]
  },
  {
   "cell_type": "code",
   "execution_count": 10,
   "id": "4bc1810b",
   "metadata": {
    "execution": {
     "iopub.execute_input": "2024-08-19T05:17:36.815016Z",
     "iopub.status.busy": "2024-08-19T05:17:36.814562Z",
     "iopub.status.idle": "2024-08-19T05:17:37.254410Z",
     "shell.execute_reply": "2024-08-19T05:17:37.252967Z"
    },
    "papermill": {
     "duration": 0.454781,
     "end_time": "2024-08-19T05:17:37.257062",
     "exception": false,
     "start_time": "2024-08-19T05:17:36.802281",
     "status": "completed"
    },
    "tags": []
   },
   "outputs": [
    {
     "name": "stderr",
     "output_type": "stream",
     "text": [
      "/opt/conda/lib/python3.10/site-packages/seaborn/_oldcore.py:1119: FutureWarning: use_inf_as_na option is deprecated and will be removed in a future version. Convert inf values to NaN before operating instead.\n",
      "  with pd.option_context('mode.use_inf_as_na', True):\n",
      "/opt/conda/lib/python3.10/site-packages/seaborn/_oldcore.py:1119: FutureWarning: use_inf_as_na option is deprecated and will be removed in a future version. Convert inf values to NaN before operating instead.\n",
      "  with pd.option_context('mode.use_inf_as_na', True):\n",
      "/opt/conda/lib/python3.10/site-packages/seaborn/_oldcore.py:1075: FutureWarning: When grouping with a length-1 list-like, you will need to pass a length-1 tuple to get_group in a future version of pandas. Pass `(name,)` instead of `name` to silence this warning.\n",
      "  data_subset = grouped_data.get_group(pd_key)\n"
     ]
    },
    {
     "data": {
      "text/plain": [
       "([0, 1, 2, 3, 4, 5, 6],\n",
       " [Text(0, 0, 'Art Competitions'),\n",
       "  Text(1, 0, 'Shooting'),\n",
       "  Text(2, 0, 'Sailing'),\n",
       "  Text(3, 0, 'Equestrianism'),\n",
       "  Text(4, 0, 'Fencing'),\n",
       "  Text(5, 0, 'Archery'),\n",
       "  Text(6, 0, 'Roque')])"
      ]
     },
     "execution_count": 10,
     "metadata": {},
     "output_type": "execute_result"
    },
    {
     "data": {
      "image/png": "[encoded data removed]",
      "text/plain": [
       "<Figure size 640x480 with 1 Axes>"
      ]
     },
     "metadata": {},
     "output_type": "display_data"
    }
   ],
   "source": [
    "filtered_age_above_60 = olympics_data.loc[olympics_data.Age > 60]\n",
    "sns.stripplot(x=filtered_age_above_60['Sport'], y=filtered_age_above_60['Age'])\n",
    "plt.xticks(rotation=45)"
   ]
  },
  {
   "cell_type": "markdown",
   "id": "9b7736d8",
   "metadata": {
    "papermill": {
     "duration": 0.011808,
     "end_time": "2024-08-19T05:17:37.280765",
     "exception": false,
     "start_time": "2024-08-19T05:17:37.268957",
     "status": "completed"
    },
    "tags": []
   },
   "source": [
    "## Recode Winter Olympics \"Year\" Value\n",
    "Checking whether the Games name tallies with the Year\n",
    "* There were only Summer Olympics from 1896 to 1920\n",
    "* From the inaugural Winter Games in 1924 until 1992, winter and summer Games were held in the same year. \n",
    "* Since 1994, summer and winter Games have been held in staggered even years, with Summer being held in the 1st year of the Olympiad, and winter held in the 3rd year.\n",
    "* When analysing the data, need to take note from 1992 onwards to recode year of the Winter Olympics to match the corresponding Summer Olympics (i.e. the same Olympiad period)"
   ]
  },
  {
   "cell_type": "code",
   "execution_count": 11,
   "id": "b437d966",
   "metadata": {
    "execution": {
     "iopub.execute_input": "2024-08-19T05:17:37.306969Z",
     "iopub.status.busy": "2024-08-19T05:17:37.305958Z",
     "iopub.status.idle": "2024-08-19T05:17:37.350305Z",
     "shell.execute_reply": "2024-08-19T05:17:37.349036Z"
    },
    "papermill": {
     "duration": 0.060755,
     "end_time": "2024-08-19T05:17:37.353380",
     "exception": false,
     "start_time": "2024-08-19T05:17:37.292625",
     "status": "completed"
    },
    "tags": []
   },
   "outputs": [
    {
     "data": {
      "text/plain": [
       "Games\n",
       "1896 Summer    1\n",
       "1900 Summer    1\n",
       "1904 Summer    1\n",
       "1906 Summer    1\n",
       "1908 Summer    1\n",
       "              ..\n",
       "2008 Summer    1\n",
       "2010 Winter    1\n",
       "2012 Summer    1\n",
       "2014 Winter    1\n",
       "2016 Summer    1\n",
       "Name: Year, Length: 51, dtype: int64"
      ]
     },
     "execution_count": 11,
     "metadata": {},
     "output_type": "execute_result"
    }
   ],
   "source": [
    "olympics_data.groupby('Games').Year.nunique()"
   ]
  },
  {
   "cell_type": "code",
   "execution_count": 12,
   "id": "d20ff930",
   "metadata": {
    "execution": {
     "iopub.execute_input": "2024-08-19T05:17:37.379689Z",
     "iopub.status.busy": "2024-08-19T05:17:37.379297Z",
     "iopub.status.idle": "2024-08-19T05:18:01.953722Z",
     "shell.execute_reply": "2024-08-19T05:18:01.952308Z"
    },
    "papermill": {
     "duration": 24.591324,
     "end_time": "2024-08-19T05:18:01.957010",
     "exception": false,
     "start_time": "2024-08-19T05:17:37.365686",
     "status": "completed"
    },
    "tags": []
   },
   "outputs": [],
   "source": [
    "def recode_winter_olympics_year(row):\n",
    "    if row.Year in [1994, 1998, 2002, 2006, 2010, 2014]:\n",
    "        row.Year += 2\n",
    "    return row\n",
    "\n",
    "olympics_data_recoded = olympics_data.apply(recode_winter_olympics_year, axis='columns')"
   ]
  },
  {
   "cell_type": "markdown",
   "id": "0e6ca624",
   "metadata": {
    "papermill": {
     "duration": 0.011815,
     "end_time": "2024-08-19T05:18:01.981462",
     "exception": false,
     "start_time": "2024-08-19T05:18:01.969647",
     "status": "completed"
    },
    "tags": []
   },
   "source": [
    "Check that the recoding is done correctly"
   ]
  },
  {
   "cell_type": "code",
   "execution_count": 13,
   "id": "f3390d4a",
   "metadata": {
    "execution": {
     "iopub.execute_input": "2024-08-19T05:18:02.011105Z",
     "iopub.status.busy": "2024-08-19T05:18:02.010592Z",
     "iopub.status.idle": "2024-08-19T05:18:02.114275Z",
     "shell.execute_reply": "2024-08-19T05:18:02.113102Z"
    },
    "papermill": {
     "duration": 0.122748,
     "end_time": "2024-08-19T05:18:02.116954",
     "exception": false,
     "start_time": "2024-08-19T05:18:01.994206",
     "status": "completed"
    },
    "tags": []
   },
   "outputs": [
    {
     "data": {
      "text/html": [
       "<div>\n",
       "<style scoped>\n",
       "    .dataframe tbody tr th:only-of-type {\n",
       "        vertical-align: middle;\n",
       "    }\n",
       "\n",
       "    .dataframe tbody tr th {\n",
       "        vertical-align: top;\n",
       "    }\n",
       "\n",
       "    .dataframe thead th {\n",
       "        text-align: right;\n",
       "    }\n",
       "</style>\n",
       "<table border=\"1\" class=\"dataframe\">\n",
       "  <thead>\n",
       "    <tr style=\"text-align: right;\">\n",
       "      <th></th>\n",
       "      <th>Name</th>\n",
       "      <th>Sex</th>\n",
       "      <th>Age</th>\n",
       "      <th>Height</th>\n",
       "      <th>Weight</th>\n",
       "      <th>Team</th>\n",
       "      <th>NOC</th>\n",
       "      <th>Games</th>\n",
       "      <th>Year</th>\n",
       "      <th>Season</th>\n",
       "      <th>City</th>\n",
       "      <th>Sport</th>\n",
       "      <th>Event</th>\n",
       "      <th>Medal</th>\n",
       "    </tr>\n",
       "    <tr>\n",
       "      <th>ID</th>\n",
       "      <th></th>\n",
       "      <th></th>\n",
       "      <th></th>\n",
       "      <th></th>\n",
       "      <th></th>\n",
       "      <th></th>\n",
       "      <th></th>\n",
       "      <th></th>\n",
       "      <th></th>\n",
       "      <th></th>\n",
       "      <th></th>\n",
       "      <th></th>\n",
       "      <th></th>\n",
       "      <th></th>\n",
       "    </tr>\n",
       "  </thead>\n",
       "  <tbody>\n",
       "    <tr>\n",
       "      <th>5</th>\n",
       "      <td>Christine Jacoba Aaftink</td>\n",
       "      <td>F</td>\n",
       "      <td>27.0</td>\n",
       "      <td>185.0</td>\n",
       "      <td>82.0</td>\n",
       "      <td>Netherlands</td>\n",
       "      <td>NED</td>\n",
       "      <td>1994 Winter</td>\n",
       "      <td>1996</td>\n",
       "      <td>Winter</td>\n",
       "      <td>Lillehammer</td>\n",
       "      <td>Speed Skating</td>\n",
       "      <td>Speed Skating Women's 500 metres</td>\n",
       "      <td>NaN</td>\n",
       "    </tr>\n",
       "    <tr>\n",
       "      <th>5</th>\n",
       "      <td>Christine Jacoba Aaftink</td>\n",
       "      <td>F</td>\n",
       "      <td>27.0</td>\n",
       "      <td>185.0</td>\n",
       "      <td>82.0</td>\n",
       "      <td>Netherlands</td>\n",
       "      <td>NED</td>\n",
       "      <td>1994 Winter</td>\n",
       "      <td>1996</td>\n",
       "      <td>Winter</td>\n",
       "      <td>Lillehammer</td>\n",
       "      <td>Speed Skating</td>\n",
       "      <td>Speed Skating Women's 1,000 metres</td>\n",
       "      <td>NaN</td>\n",
       "    </tr>\n",
       "    <tr>\n",
       "      <th>6</th>\n",
       "      <td>Per Knut Aaland</td>\n",
       "      <td>M</td>\n",
       "      <td>33.0</td>\n",
       "      <td>188.0</td>\n",
       "      <td>75.0</td>\n",
       "      <td>United States</td>\n",
       "      <td>USA</td>\n",
       "      <td>1994 Winter</td>\n",
       "      <td>1996</td>\n",
       "      <td>Winter</td>\n",
       "      <td>Lillehammer</td>\n",
       "      <td>Cross Country Skiing</td>\n",
       "      <td>Cross Country Skiing Men's 10 kilometres</td>\n",
       "      <td>NaN</td>\n",
       "    </tr>\n",
       "    <tr>\n",
       "      <th>6</th>\n",
       "      <td>Per Knut Aaland</td>\n",
       "      <td>M</td>\n",
       "      <td>33.0</td>\n",
       "      <td>188.0</td>\n",
       "      <td>75.0</td>\n",
       "      <td>United States</td>\n",
       "      <td>USA</td>\n",
       "      <td>1994 Winter</td>\n",
       "      <td>1996</td>\n",
       "      <td>Winter</td>\n",
       "      <td>Lillehammer</td>\n",
       "      <td>Cross Country Skiing</td>\n",
       "      <td>Cross Country Skiing Men's 30 kilometres</td>\n",
       "      <td>NaN</td>\n",
       "    </tr>\n",
       "    <tr>\n",
       "      <th>6</th>\n",
       "      <td>Per Knut Aaland</td>\n",
       "      <td>M</td>\n",
       "      <td>33.0</td>\n",
       "      <td>188.0</td>\n",
       "      <td>75.0</td>\n",
       "      <td>United States</td>\n",
       "      <td>USA</td>\n",
       "      <td>1994 Winter</td>\n",
       "      <td>1996</td>\n",
       "      <td>Winter</td>\n",
       "      <td>Lillehammer</td>\n",
       "      <td>Cross Country Skiing</td>\n",
       "      <td>Cross Country Skiing Men's 10/15 kilometres Pu...</td>\n",
       "      <td>NaN</td>\n",
       "    </tr>\n",
       "  </tbody>\n",
       "</table>\n",
       "</div>"
      ],
      "text/plain": [
       "                        Name Sex   Age  Height  Weight           Team  NOC  \\\n",
       "ID                                                                           \n",
       "5   Christine Jacoba Aaftink   F  27.0   185.0    82.0    Netherlands  NED   \n",
       "5   Christine Jacoba Aaftink   F  27.0   185.0    82.0    Netherlands  NED   \n",
       "6            Per Knut Aaland   M  33.0   188.0    75.0  United States  USA   \n",
       "6            Per Knut Aaland   M  33.0   188.0    75.0  United States  USA   \n",
       "6            Per Knut Aaland   M  33.0   188.0    75.0  United States  USA   \n",
       "\n",
       "          Games  Year  Season         City                 Sport  \\\n",
       "ID                                                                 \n",
       "5   1994 Winter  1996  Winter  Lillehammer         Speed Skating   \n",
       "5   1994 Winter  1996  Winter  Lillehammer         Speed Skating   \n",
       "6   1994 Winter  1996  Winter  Lillehammer  Cross Country Skiing   \n",
       "6   1994 Winter  1996  Winter  Lillehammer  Cross Country Skiing   \n",
       "6   1994 Winter  1996  Winter  Lillehammer  Cross Country Skiing   \n",
       "\n",
       "                                                Event Medal  \n",
       "ID                                                           \n",
       "5                    Speed Skating Women's 500 metres   NaN  \n",
       "5                  Speed Skating Women's 1,000 metres   NaN  \n",
       "6            Cross Country Skiing Men's 10 kilometres   NaN  \n",
       "6            Cross Country Skiing Men's 30 kilometres   NaN  \n",
       "6   Cross Country Skiing Men's 10/15 kilometres Pu...   NaN  "
      ]
     },
     "execution_count": 13,
     "metadata": {},
     "output_type": "execute_result"
    }
   ],
   "source": [
    "olympics_data_recoded[(olympics_data_recoded.Season == 'Winter') & (olympics_data_recoded.Year > 1992)].head()"
   ]
  },
  {
   "cell_type": "markdown",
   "id": "104fd53b",
   "metadata": {
    "papermill": {
     "duration": 0.012051,
     "end_time": "2024-08-19T05:18:02.141660",
     "exception": false,
     "start_time": "2024-08-19T05:18:02.129609",
     "status": "completed"
    },
    "tags": []
   },
   "source": [
    "## Data Completeness of Age, Height, Weight\n",
    "Now that the \"Year\" is recoded to mean \"Olympiad\", I compute the no. of athelete-event data that has non NaN / null values for each \"Year\" to check which olympiads have more complete data that I can use before the analysis."
   ]
  },
  {
   "cell_type": "code",
   "execution_count": null,
   "id": "14751a79",
   "metadata": {
    "papermill": {
     "duration": 0.012073,
     "end_time": "2024-08-19T05:18:02.166166",
     "exception": false,
     "start_time": "2024-08-19T05:18:02.154093",
     "status": "completed"
    },
    "tags": []
   },
   "outputs": [],
   "source": []
  },
  {
   "cell_type": "markdown",
   "id": "1b36982d",
   "metadata": {
    "papermill": {
     "duration": 0.012026,
     "end_time": "2024-08-19T05:18:02.191253",
     "exception": false,
     "start_time": "2024-08-19T05:18:02.179227",
     "status": "completed"
    },
    "tags": []
   },
   "source": [
    "# Female Participation in the Olympics\n",
    "* Increased gradually from the 1940s\n",
    "* Then rapidly from the 1980s onwards"
   ]
  },
  {
   "cell_type": "code",
   "execution_count": 14,
   "id": "af984869",
   "metadata": {
    "execution": {
     "iopub.execute_input": "2024-08-19T05:18:02.217888Z",
     "iopub.status.busy": "2024-08-19T05:18:02.217497Z",
     "iopub.status.idle": "2024-08-19T05:18:02.265406Z",
     "shell.execute_reply": "2024-08-19T05:18:02.264170Z"
    },
    "papermill": {
     "duration": 0.065017,
     "end_time": "2024-08-19T05:18:02.268697",
     "exception": false,
     "start_time": "2024-08-19T05:18:02.203680",
     "status": "completed"
    },
    "tags": []
   },
   "outputs": [],
   "source": [
    "grouped_by_sex_data = olympics_data_recoded.groupby(['Year', 'Sex']).size().reset_index(name='Count')"
   ]
  },
  {
   "cell_type": "code",
   "execution_count": 15,
   "id": "810603eb",
   "metadata": {
    "execution": {
     "iopub.execute_input": "2024-08-19T05:18:02.297056Z",
     "iopub.status.busy": "2024-08-19T05:18:02.296597Z",
     "iopub.status.idle": "2024-08-19T05:18:02.752034Z",
     "shell.execute_reply": "2024-08-19T05:18:02.750773Z"
    },
    "papermill": {
     "duration": 0.472651,
     "end_time": "2024-08-19T05:18:02.754669",
     "exception": false,
     "start_time": "2024-08-19T05:18:02.282018",
     "status": "completed"
    },
    "tags": []
   },
   "outputs": [
    {
     "name": "stderr",
     "output_type": "stream",
     "text": [
      "/opt/conda/lib/python3.10/site-packages/seaborn/_oldcore.py:1119: FutureWarning: use_inf_as_na option is deprecated and will be removed in a future version. Convert inf values to NaN before operating instead.\n",
      "  with pd.option_context('mode.use_inf_as_na', True):\n",
      "/opt/conda/lib/python3.10/site-packages/seaborn/_oldcore.py:1119: FutureWarning: use_inf_as_na option is deprecated and will be removed in a future version. Convert inf values to NaN before operating instead.\n",
      "  with pd.option_context('mode.use_inf_as_na', True):\n",
      "/opt/conda/lib/python3.10/site-packages/seaborn/_oldcore.py:1075: FutureWarning: When grouping with a length-1 list-like, you will need to pass a length-1 tuple to get_group in a future version of pandas. Pass `(name,)` instead of `name` to silence this warning.\n",
      "  data_subset = grouped_data.get_group(pd_key)\n",
      "/opt/conda/lib/python3.10/site-packages/seaborn/_oldcore.py:1075: FutureWarning: When grouping with a length-1 list-like, you will need to pass a length-1 tuple to get_group in a future version of pandas. Pass `(name,)` instead of `name` to silence this warning.\n",
      "  data_subset = grouped_data.get_group(pd_key)\n"
     ]
    },
    {
     "data": {
      "text/plain": [
       "<matplotlib.legend.Legend at 0x784f6178e0e0>"
      ]
     },
     "execution_count": 15,
     "metadata": {},
     "output_type": "execute_result"
    },
    {
     "data": {
      "image/png": "[encoded data removed]",
      "text/plain": [
       "<Figure size 1200x600 with 1 Axes>"
      ]
     },
     "metadata": {},
     "output_type": "display_data"
    }
   ],
   "source": [
    "# Create a plot\n",
    "plt.figure(figsize=(12, 6))\n",
    "sns.lineplot(data=grouped_by_sex_data, x='Year', y='Count', hue='Sex', palette='Set2')\n",
    "plt.title('Number of Male vs Female Athletes per Year')\n",
    "plt.xlabel('Year')\n",
    "plt.ylabel('Number of Athletes')\n",
    "plt.xticks(rotation=45)\n",
    "plt.legend(title='Sex')"
   ]
  }
 ],
 "metadata": {
  "kaggle": {
   "accelerator": "none",
   "dataSources": [
    {
     "datasetId": 31029,
     "sourceId": 40943,
     "sourceType": "datasetVersion"
    }
   ],
   "dockerImageVersionId": 30746,
   "isGpuEnabled": false,
   "isInternetEnabled": false,
   "language": "python",
   "sourceType": "notebook"
  },
  "kernelspec": {
   "display_name": "Python 3",
   "language": "python",
   "name": "python3"
  },
  "language_info": {
   "codemirror_mode": {
    "name": "ipython",
    "version": 3
   },
   "file_extension": ".py",
   "mimetype": "text/x-python",
   "name": "python",
   "nbconvert_exporter": "python",
   "pygments_lexer": "ipython3",
   "version": "3.10.13"
  },
  "papermill": {
   "default_parameters": {},
   "duration": 37.260878,
   "end_time": "2024-08-19T05:18:03.594685",
   "environment_variables": {},
   "exception": null,
   "input_path": "__notebook__.ipynb",
   "output_path": "__notebook__.ipynb",
   "parameters": {},
   "start_time": "2024-08-19T05:17:26.333807",
   "version": "2.5.0"
  }
 },
 "nbformat": 4,
 "nbformat_minor": 5
}
