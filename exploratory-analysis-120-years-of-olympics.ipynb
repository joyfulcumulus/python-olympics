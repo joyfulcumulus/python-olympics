{
 "cells": [
  {
   "cell_type": "markdown",
   "id": "a889c514",
   "metadata": {
    "papermill": {
     "duration": 0.006728,
     "end_time": "2024-08-19T04:24:06.059350",
     "exception": false,
     "start_time": "2024-08-19T04:24:06.052622",
     "status": "completed"
    },
    "tags": []
   },
   "source": [
    "# Preparations\n",
    "Load packages and data"
   ]
  },
  {
   "cell_type": "code",
   "execution_count": 1,
   "id": "7f262573",
   "metadata": {
    "execution": {
     "iopub.execute_input": "2024-08-19T04:24:06.074047Z",
     "iopub.status.busy": "2024-08-19T04:24:06.073617Z",
     "iopub.status.idle": "2024-08-19T04:24:08.985563Z",
     "shell.execute_reply": "2024-08-19T04:24:08.984196Z"
    },
    "papermill": {
     "duration": 2.92236,
     "end_time": "2024-08-19T04:24:08.988386",
     "exception": false,
     "start_time": "2024-08-19T04:24:06.066026",
     "status": "completed"
    },
    "tags": []
   },
   "outputs": [
    {
     "name": "stdout",
     "output_type": "stream",
     "text": [
      "Setup Complete\n"
     ]
    }
   ],
   "source": [
    "import pandas as pd\n",
    "pd.set_option(\"display.max_rows\", 10)\n",
    "pd.plotting.register_matplotlib_converters()\n",
    "import matplotlib.pyplot as plt\n",
    "%matplotlib inline\n",
    "import seaborn as sns\n",
    "print(\"Setup Complete\")"
   ]
  },
  {
   "cell_type": "code",
   "execution_count": 2,
   "id": "40977be9",
   "metadata": {
    "execution": {
     "iopub.execute_input": "2024-08-19T04:24:09.004015Z",
     "iopub.status.busy": "2024-08-19T04:24:09.003427Z",
     "iopub.status.idle": "2024-08-19T04:24:10.417982Z",
     "shell.execute_reply": "2024-08-19T04:24:10.416736Z"
    },
    "papermill": {
     "duration": 1.425338,
     "end_time": "2024-08-19T04:24:10.420701",
     "exception": false,
     "start_time": "2024-08-19T04:24:08.995363",
     "status": "completed"
    },
    "tags": []
   },
   "outputs": [],
   "source": [
    "filepath = \"/kaggle/input/120-years-of-olympic-history-athletes-and-results/athlete_events.csv\"\n",
    "olympics_data = pd.read_csv(filepath, index_col=\"ID\")"
   ]
  },
  {
   "cell_type": "markdown",
   "id": "2a6d2a60",
   "metadata": {
    "papermill": {
     "duration": 0.006257,
     "end_time": "2024-08-19T04:24:10.434022",
     "exception": false,
     "start_time": "2024-08-19T04:24:10.427765",
     "status": "completed"
    },
    "tags": []
   },
   "source": [
    "# Basic Dataset Exploration\n",
    "\n",
    "Took a look at how the raw data looked like"
   ]
  },
  {
   "cell_type": "code",
   "execution_count": 3,
   "id": "20ddd6a2",
   "metadata": {
    "execution": {
     "iopub.execute_input": "2024-08-19T04:24:10.449804Z",
     "iopub.status.busy": "2024-08-19T04:24:10.449377Z",
     "iopub.status.idle": "2024-08-19T04:24:10.480058Z",
     "shell.execute_reply": "2024-08-19T04:24:10.478621Z"
    },
    "papermill": {
     "duration": 0.041861,
     "end_time": "2024-08-19T04:24:10.482907",
     "exception": false,
     "start_time": "2024-08-19T04:24:10.441046",
     "status": "completed"
    },
    "tags": []
   },
   "outputs": [
    {
     "data": {
      "text/html": [
       "<div>\n",
       "<style scoped>\n",
       "    .dataframe tbody tr th:only-of-type {\n",
       "        vertical-align: middle;\n",
       "    }\n",
       "\n",
       "    .dataframe tbody tr th {\n",
       "        vertical-align: top;\n",
       "    }\n",
       "\n",
       "    .dataframe thead th {\n",
       "        text-align: right;\n",
       "    }\n",
       "</style>\n",
       "<table border=\"1\" class=\"dataframe\">\n",
       "  <thead>\n",
       "    <tr style=\"text-align: right;\">\n",
       "      <th></th>\n",
       "      <th>Name</th>\n",
       "      <th>Sex</th>\n",
       "      <th>Age</th>\n",
       "      <th>Height</th>\n",
       "      <th>Weight</th>\n",
       "      <th>Team</th>\n",
       "      <th>NOC</th>\n",
       "      <th>Games</th>\n",
       "      <th>Year</th>\n",
       "      <th>Season</th>\n",
       "      <th>City</th>\n",
       "      <th>Sport</th>\n",
       "      <th>Event</th>\n",
       "      <th>Medal</th>\n",
       "    </tr>\n",
       "    <tr>\n",
       "      <th>ID</th>\n",
       "      <th></th>\n",
       "      <th></th>\n",
       "      <th></th>\n",
       "      <th></th>\n",
       "      <th></th>\n",
       "      <th></th>\n",
       "      <th></th>\n",
       "      <th></th>\n",
       "      <th></th>\n",
       "      <th></th>\n",
       "      <th></th>\n",
       "      <th></th>\n",
       "      <th></th>\n",
       "      <th></th>\n",
       "    </tr>\n",
       "  </thead>\n",
       "  <tbody>\n",
       "    <tr>\n",
       "      <th>1</th>\n",
       "      <td>A Dijiang</td>\n",
       "      <td>M</td>\n",
       "      <td>24.0</td>\n",
       "      <td>180.0</td>\n",
       "      <td>80.0</td>\n",
       "      <td>China</td>\n",
       "      <td>CHN</td>\n",
       "      <td>1992 Summer</td>\n",
       "      <td>1992</td>\n",
       "      <td>Summer</td>\n",
       "      <td>Barcelona</td>\n",
       "      <td>Basketball</td>\n",
       "      <td>Basketball Men's Basketball</td>\n",
       "      <td>NaN</td>\n",
       "    </tr>\n",
       "    <tr>\n",
       "      <th>2</th>\n",
       "      <td>A Lamusi</td>\n",
       "      <td>M</td>\n",
       "      <td>23.0</td>\n",
       "      <td>170.0</td>\n",
       "      <td>60.0</td>\n",
       "      <td>China</td>\n",
       "      <td>CHN</td>\n",
       "      <td>2012 Summer</td>\n",
       "      <td>2012</td>\n",
       "      <td>Summer</td>\n",
       "      <td>London</td>\n",
       "      <td>Judo</td>\n",
       "      <td>Judo Men's Extra-Lightweight</td>\n",
       "      <td>NaN</td>\n",
       "    </tr>\n",
       "    <tr>\n",
       "      <th>3</th>\n",
       "      <td>Gunnar Nielsen Aaby</td>\n",
       "      <td>M</td>\n",
       "      <td>24.0</td>\n",
       "      <td>NaN</td>\n",
       "      <td>NaN</td>\n",
       "      <td>Denmark</td>\n",
       "      <td>DEN</td>\n",
       "      <td>1920 Summer</td>\n",
       "      <td>1920</td>\n",
       "      <td>Summer</td>\n",
       "      <td>Antwerpen</td>\n",
       "      <td>Football</td>\n",
       "      <td>Football Men's Football</td>\n",
       "      <td>NaN</td>\n",
       "    </tr>\n",
       "    <tr>\n",
       "      <th>4</th>\n",
       "      <td>Edgar Lindenau Aabye</td>\n",
       "      <td>M</td>\n",
       "      <td>34.0</td>\n",
       "      <td>NaN</td>\n",
       "      <td>NaN</td>\n",
       "      <td>Denmark/Sweden</td>\n",
       "      <td>DEN</td>\n",
       "      <td>1900 Summer</td>\n",
       "      <td>1900</td>\n",
       "      <td>Summer</td>\n",
       "      <td>Paris</td>\n",
       "      <td>Tug-Of-War</td>\n",
       "      <td>Tug-Of-War Men's Tug-Of-War</td>\n",
       "      <td>Gold</td>\n",
       "    </tr>\n",
       "    <tr>\n",
       "      <th>5</th>\n",
       "      <td>Christine Jacoba Aaftink</td>\n",
       "      <td>F</td>\n",
       "      <td>21.0</td>\n",
       "      <td>185.0</td>\n",
       "      <td>82.0</td>\n",
       "      <td>Netherlands</td>\n",
       "      <td>NED</td>\n",
       "      <td>1988 Winter</td>\n",
       "      <td>1988</td>\n",
       "      <td>Winter</td>\n",
       "      <td>Calgary</td>\n",
       "      <td>Speed Skating</td>\n",
       "      <td>Speed Skating Women's 500 metres</td>\n",
       "      <td>NaN</td>\n",
       "    </tr>\n",
       "  </tbody>\n",
       "</table>\n",
       "</div>"
      ],
      "text/plain": [
       "                        Name Sex   Age  Height  Weight            Team  NOC  \\\n",
       "ID                                                                            \n",
       "1                  A Dijiang   M  24.0   180.0    80.0           China  CHN   \n",
       "2                   A Lamusi   M  23.0   170.0    60.0           China  CHN   \n",
       "3        Gunnar Nielsen Aaby   M  24.0     NaN     NaN         Denmark  DEN   \n",
       "4       Edgar Lindenau Aabye   M  34.0     NaN     NaN  Denmark/Sweden  DEN   \n",
       "5   Christine Jacoba Aaftink   F  21.0   185.0    82.0     Netherlands  NED   \n",
       "\n",
       "          Games  Year  Season       City          Sport  \\\n",
       "ID                                                        \n",
       "1   1992 Summer  1992  Summer  Barcelona     Basketball   \n",
       "2   2012 Summer  2012  Summer     London           Judo   \n",
       "3   1920 Summer  1920  Summer  Antwerpen       Football   \n",
       "4   1900 Summer  1900  Summer      Paris     Tug-Of-War   \n",
       "5   1988 Winter  1988  Winter    Calgary  Speed Skating   \n",
       "\n",
       "                               Event Medal  \n",
       "ID                                          \n",
       "1        Basketball Men's Basketball   NaN  \n",
       "2       Judo Men's Extra-Lightweight   NaN  \n",
       "3            Football Men's Football   NaN  \n",
       "4        Tug-Of-War Men's Tug-Of-War  Gold  \n",
       "5   Speed Skating Women's 500 metres   NaN  "
      ]
     },
     "execution_count": 3,
     "metadata": {},
     "output_type": "execute_result"
    }
   ],
   "source": [
    "olympics_data.head()"
   ]
  },
  {
   "cell_type": "markdown",
   "id": "5301bd1d",
   "metadata": {
    "papermill": {
     "duration": 0.006549,
     "end_time": "2024-08-19T04:24:10.496392",
     "exception": false,
     "start_time": "2024-08-19T04:24:10.489843",
     "status": "completed"
    },
    "tags": []
   },
   "source": [
    "Tabulated the no. of rows of data, and columns. There are 271,116 rows of athlete data, and 14 columns (excluding the index)\n",
    "The data types also are \"object\" and \"float64\""
   ]
  },
  {
   "cell_type": "code",
   "execution_count": 4,
   "id": "debb8e25",
   "metadata": {
    "execution": {
     "iopub.execute_input": "2024-08-19T04:24:10.512330Z",
     "iopub.status.busy": "2024-08-19T04:24:10.511747Z",
     "iopub.status.idle": "2024-08-19T04:24:10.519081Z",
     "shell.execute_reply": "2024-08-19T04:24:10.517920Z"
    },
    "papermill": {
     "duration": 0.018685,
     "end_time": "2024-08-19T04:24:10.521860",
     "exception": false,
     "start_time": "2024-08-19T04:24:10.503175",
     "status": "completed"
    },
    "tags": []
   },
   "outputs": [
    {
     "data": {
      "text/plain": [
       "(271116, 14)"
      ]
     },
     "execution_count": 4,
     "metadata": {},
     "output_type": "execute_result"
    }
   ],
   "source": [
    "olympics_data.shape"
   ]
  },
  {
   "cell_type": "code",
   "execution_count": 5,
   "id": "f9798eef",
   "metadata": {
    "execution": {
     "iopub.execute_input": "2024-08-19T04:24:10.537859Z",
     "iopub.status.busy": "2024-08-19T04:24:10.537419Z",
     "iopub.status.idle": "2024-08-19T04:24:10.547052Z",
     "shell.execute_reply": "2024-08-19T04:24:10.545885Z"
    },
    "papermill": {
     "duration": 0.020958,
     "end_time": "2024-08-19T04:24:10.550000",
     "exception": false,
     "start_time": "2024-08-19T04:24:10.529042",
     "status": "completed"
    },
    "tags": []
   },
   "outputs": [
    {
     "data": {
      "text/plain": [
       "Name       object\n",
       "Sex        object\n",
       "Age       float64\n",
       "Height    float64\n",
       "Weight    float64\n",
       "           ...   \n",
       "Season     object\n",
       "City       object\n",
       "Sport      object\n",
       "Event      object\n",
       "Medal      object\n",
       "Length: 14, dtype: object"
      ]
     },
     "execution_count": 5,
     "metadata": {},
     "output_type": "execute_result"
    }
   ],
   "source": [
    "olympics_data.dtypes"
   ]
  },
  {
   "cell_type": "markdown",
   "id": "0406ec30",
   "metadata": {
    "papermill": {
     "duration": 0.007061,
     "end_time": "2024-08-19T04:24:10.564350",
     "exception": false,
     "start_time": "2024-08-19T04:24:10.557289",
     "status": "completed"
    },
    "tags": []
   },
   "source": [
    "## Basic Information\n",
    "* Count: Not all rows have complete data (namely: Age, Height, Weight, Medal). For Medal this could be reasonable construed as the athelete did not win any medals\n",
    "* Name: Some people have same name, since unique count =/= count. As mentioned in the dataset description, ID column uniquely identifies athletes\n",
    "* Sex: 2 types \"M\" or \"F\"\n",
    "* Age: Average is 25 years old, youngest is 10 years old, and max is 97 years old. Upon checking it is due to certain sports like : Art Competitions, Shooting, Sailing that are more on precision / expression\n",
    "* Weight: Average is 71kg, with min 25kg and max 214kg. This would probably be sports dependent\n",
    "* Teams and NOCs are not the same. An NOC may have brought multiple Teams to compete (e.g. United States', 'Vesper Boat Club', 'New York Athletic Club 2-4'). This data does not seem useful\n",
    "* Season: \"Summer\" or \"Winter\"\n",
    "* Sport: A sport may have multiple events (e.g. Sport = Judo. Events = Judo Men's Extra-Lightweight\", \"Judo Men's Half-Middleweight\",\n",
    "       \"Judo Men's Lightweight\", \"Judo Men's Heavyweight\"...)"
   ]
  },
  {
   "cell_type": "code",
   "execution_count": 6,
   "id": "2fa0c3c2",
   "metadata": {
    "execution": {
     "iopub.execute_input": "2024-08-19T04:24:10.581145Z",
     "iopub.status.busy": "2024-08-19T04:24:10.580730Z",
     "iopub.status.idle": "2024-08-19T04:24:11.546938Z",
     "shell.execute_reply": "2024-08-19T04:24:11.545656Z"
    },
    "papermill": {
     "duration": 0.979584,
     "end_time": "2024-08-19T04:24:11.551297",
     "exception": false,
     "start_time": "2024-08-19T04:24:10.571713",
     "status": "completed"
    },
    "tags": []
   },
   "outputs": [
    {
     "data": {
      "text/html": [
       "<div>\n",
       "<style scoped>\n",
       "    .dataframe tbody tr th:only-of-type {\n",
       "        vertical-align: middle;\n",
       "    }\n",
       "\n",
       "    .dataframe tbody tr th {\n",
       "        vertical-align: top;\n",
       "    }\n",
       "\n",
       "    .dataframe thead th {\n",
       "        text-align: right;\n",
       "    }\n",
       "</style>\n",
       "<table border=\"1\" class=\"dataframe\">\n",
       "  <thead>\n",
       "    <tr style=\"text-align: right;\">\n",
       "      <th></th>\n",
       "      <th>Name</th>\n",
       "      <th>Sex</th>\n",
       "      <th>Age</th>\n",
       "      <th>Height</th>\n",
       "      <th>Weight</th>\n",
       "      <th>Team</th>\n",
       "      <th>NOC</th>\n",
       "      <th>Games</th>\n",
       "      <th>Year</th>\n",
       "      <th>Season</th>\n",
       "      <th>City</th>\n",
       "      <th>Sport</th>\n",
       "      <th>Event</th>\n",
       "      <th>Medal</th>\n",
       "    </tr>\n",
       "  </thead>\n",
       "  <tbody>\n",
       "    <tr>\n",
       "      <th>count</th>\n",
       "      <td>271116</td>\n",
       "      <td>271116</td>\n",
       "      <td>261642.000000</td>\n",
       "      <td>210945.00000</td>\n",
       "      <td>208241.000000</td>\n",
       "      <td>271116</td>\n",
       "      <td>271116</td>\n",
       "      <td>271116</td>\n",
       "      <td>271116.00000</td>\n",
       "      <td>271116</td>\n",
       "      <td>271116</td>\n",
       "      <td>271116</td>\n",
       "      <td>271116</td>\n",
       "      <td>39783</td>\n",
       "    </tr>\n",
       "    <tr>\n",
       "      <th>unique</th>\n",
       "      <td>134732</td>\n",
       "      <td>2</td>\n",
       "      <td>NaN</td>\n",
       "      <td>NaN</td>\n",
       "      <td>NaN</td>\n",
       "      <td>1184</td>\n",
       "      <td>230</td>\n",
       "      <td>51</td>\n",
       "      <td>NaN</td>\n",
       "      <td>2</td>\n",
       "      <td>42</td>\n",
       "      <td>66</td>\n",
       "      <td>765</td>\n",
       "      <td>3</td>\n",
       "    </tr>\n",
       "    <tr>\n",
       "      <th>top</th>\n",
       "      <td>Robert Tait McKenzie</td>\n",
       "      <td>M</td>\n",
       "      <td>NaN</td>\n",
       "      <td>NaN</td>\n",
       "      <td>NaN</td>\n",
       "      <td>United States</td>\n",
       "      <td>USA</td>\n",
       "      <td>2000 Summer</td>\n",
       "      <td>NaN</td>\n",
       "      <td>Summer</td>\n",
       "      <td>London</td>\n",
       "      <td>Athletics</td>\n",
       "      <td>Football Men's Football</td>\n",
       "      <td>Gold</td>\n",
       "    </tr>\n",
       "    <tr>\n",
       "      <th>freq</th>\n",
       "      <td>58</td>\n",
       "      <td>196594</td>\n",
       "      <td>NaN</td>\n",
       "      <td>NaN</td>\n",
       "      <td>NaN</td>\n",
       "      <td>17847</td>\n",
       "      <td>18853</td>\n",
       "      <td>13821</td>\n",
       "      <td>NaN</td>\n",
       "      <td>222552</td>\n",
       "      <td>22426</td>\n",
       "      <td>38624</td>\n",
       "      <td>5733</td>\n",
       "      <td>13372</td>\n",
       "    </tr>\n",
       "    <tr>\n",
       "      <th>mean</th>\n",
       "      <td>NaN</td>\n",
       "      <td>NaN</td>\n",
       "      <td>25.556898</td>\n",
       "      <td>175.33897</td>\n",
       "      <td>70.702393</td>\n",
       "      <td>NaN</td>\n",
       "      <td>NaN</td>\n",
       "      <td>NaN</td>\n",
       "      <td>1978.37848</td>\n",
       "      <td>NaN</td>\n",
       "      <td>NaN</td>\n",
       "      <td>NaN</td>\n",
       "      <td>NaN</td>\n",
       "      <td>NaN</td>\n",
       "    </tr>\n",
       "    <tr>\n",
       "      <th>...</th>\n",
       "      <td>...</td>\n",
       "      <td>...</td>\n",
       "      <td>...</td>\n",
       "      <td>...</td>\n",
       "      <td>...</td>\n",
       "      <td>...</td>\n",
       "      <td>...</td>\n",
       "      <td>...</td>\n",
       "      <td>...</td>\n",
       "      <td>...</td>\n",
       "      <td>...</td>\n",
       "      <td>...</td>\n",
       "      <td>...</td>\n",
       "      <td>...</td>\n",
       "    </tr>\n",
       "    <tr>\n",
       "      <th>min</th>\n",
       "      <td>NaN</td>\n",
       "      <td>NaN</td>\n",
       "      <td>10.000000</td>\n",
       "      <td>127.00000</td>\n",
       "      <td>25.000000</td>\n",
       "      <td>NaN</td>\n",
       "      <td>NaN</td>\n",
       "      <td>NaN</td>\n",
       "      <td>1896.00000</td>\n",
       "      <td>NaN</td>\n",
       "      <td>NaN</td>\n",
       "      <td>NaN</td>\n",
       "      <td>NaN</td>\n",
       "      <td>NaN</td>\n",
       "    </tr>\n",
       "    <tr>\n",
       "      <th>25%</th>\n",
       "      <td>NaN</td>\n",
       "      <td>NaN</td>\n",
       "      <td>21.000000</td>\n",
       "      <td>168.00000</td>\n",
       "      <td>60.000000</td>\n",
       "      <td>NaN</td>\n",
       "      <td>NaN</td>\n",
       "      <td>NaN</td>\n",
       "      <td>1960.00000</td>\n",
       "      <td>NaN</td>\n",
       "      <td>NaN</td>\n",
       "      <td>NaN</td>\n",
       "      <td>NaN</td>\n",
       "      <td>NaN</td>\n",
       "    </tr>\n",
       "    <tr>\n",
       "      <th>50%</th>\n",
       "      <td>NaN</td>\n",
       "      <td>NaN</td>\n",
       "      <td>24.000000</td>\n",
       "      <td>175.00000</td>\n",
       "      <td>70.000000</td>\n",
       "      <td>NaN</td>\n",
       "      <td>NaN</td>\n",
       "      <td>NaN</td>\n",
       "      <td>1988.00000</td>\n",
       "      <td>NaN</td>\n",
       "      <td>NaN</td>\n",
       "      <td>NaN</td>\n",
       "      <td>NaN</td>\n",
       "      <td>NaN</td>\n",
       "    </tr>\n",
       "    <tr>\n",
       "      <th>75%</th>\n",
       "      <td>NaN</td>\n",
       "      <td>NaN</td>\n",
       "      <td>28.000000</td>\n",
       "      <td>183.00000</td>\n",
       "      <td>79.000000</td>\n",
       "      <td>NaN</td>\n",
       "      <td>NaN</td>\n",
       "      <td>NaN</td>\n",
       "      <td>2002.00000</td>\n",
       "      <td>NaN</td>\n",
       "      <td>NaN</td>\n",
       "      <td>NaN</td>\n",
       "      <td>NaN</td>\n",
       "      <td>NaN</td>\n",
       "    </tr>\n",
       "    <tr>\n",
       "      <th>max</th>\n",
       "      <td>NaN</td>\n",
       "      <td>NaN</td>\n",
       "      <td>97.000000</td>\n",
       "      <td>226.00000</td>\n",
       "      <td>214.000000</td>\n",
       "      <td>NaN</td>\n",
       "      <td>NaN</td>\n",
       "      <td>NaN</td>\n",
       "      <td>2016.00000</td>\n",
       "      <td>NaN</td>\n",
       "      <td>NaN</td>\n",
       "      <td>NaN</td>\n",
       "      <td>NaN</td>\n",
       "      <td>NaN</td>\n",
       "    </tr>\n",
       "  </tbody>\n",
       "</table>\n",
       "<p>11 rows × 14 columns</p>\n",
       "</div>"
      ],
      "text/plain": [
       "                        Name     Sex            Age        Height  \\\n",
       "count                 271116  271116  261642.000000  210945.00000   \n",
       "unique                134732       2            NaN           NaN   \n",
       "top     Robert Tait McKenzie       M            NaN           NaN   \n",
       "freq                      58  196594            NaN           NaN   \n",
       "mean                     NaN     NaN      25.556898     175.33897   \n",
       "...                      ...     ...            ...           ...   \n",
       "min                      NaN     NaN      10.000000     127.00000   \n",
       "25%                      NaN     NaN      21.000000     168.00000   \n",
       "50%                      NaN     NaN      24.000000     175.00000   \n",
       "75%                      NaN     NaN      28.000000     183.00000   \n",
       "max                      NaN     NaN      97.000000     226.00000   \n",
       "\n",
       "               Weight           Team     NOC        Games          Year  \\\n",
       "count   208241.000000         271116  271116       271116  271116.00000   \n",
       "unique            NaN           1184     230           51           NaN   \n",
       "top               NaN  United States     USA  2000 Summer           NaN   \n",
       "freq              NaN          17847   18853        13821           NaN   \n",
       "mean        70.702393            NaN     NaN          NaN    1978.37848   \n",
       "...               ...            ...     ...          ...           ...   \n",
       "min         25.000000            NaN     NaN          NaN    1896.00000   \n",
       "25%         60.000000            NaN     NaN          NaN    1960.00000   \n",
       "50%         70.000000            NaN     NaN          NaN    1988.00000   \n",
       "75%         79.000000            NaN     NaN          NaN    2002.00000   \n",
       "max        214.000000            NaN     NaN          NaN    2016.00000   \n",
       "\n",
       "        Season    City      Sport                    Event  Medal  \n",
       "count   271116  271116     271116                   271116  39783  \n",
       "unique       2      42         66                      765      3  \n",
       "top     Summer  London  Athletics  Football Men's Football   Gold  \n",
       "freq    222552   22426      38624                     5733  13372  \n",
       "mean       NaN     NaN        NaN                      NaN    NaN  \n",
       "...        ...     ...        ...                      ...    ...  \n",
       "min        NaN     NaN        NaN                      NaN    NaN  \n",
       "25%        NaN     NaN        NaN                      NaN    NaN  \n",
       "50%        NaN     NaN        NaN                      NaN    NaN  \n",
       "75%        NaN     NaN        NaN                      NaN    NaN  \n",
       "max        NaN     NaN        NaN                      NaN    NaN  \n",
       "\n",
       "[11 rows x 14 columns]"
      ]
     },
     "execution_count": 6,
     "metadata": {},
     "output_type": "execute_result"
    }
   ],
   "source": [
    "olympics_data.describe(include='all')"
   ]
  },
  {
   "cell_type": "markdown",
   "id": "cda42762",
   "metadata": {
    "papermill": {
     "duration": 0.00788,
     "end_time": "2024-08-19T04:24:11.568352",
     "exception": false,
     "start_time": "2024-08-19T04:24:11.560472",
     "status": "completed"
    },
    "tags": []
   },
   "source": [
    "An example of a NOC with multiple Teams. NOC USA has multiple teams (e.g. Angelita, Rush IV, Boston Archers).\n",
    "These seem to be informal names that should not be usable in our analysis."
   ]
  },
  {
   "cell_type": "code",
   "execution_count": 7,
   "id": "d503927c",
   "metadata": {
    "execution": {
     "iopub.execute_input": "2024-08-19T04:24:11.585956Z",
     "iopub.status.busy": "2024-08-19T04:24:11.585485Z",
     "iopub.status.idle": "2024-08-19T04:24:11.658228Z",
     "shell.execute_reply": "2024-08-19T04:24:11.656901Z"
    },
    "papermill": {
     "duration": 0.085439,
     "end_time": "2024-08-19T04:24:11.661786",
     "exception": false,
     "start_time": "2024-08-19T04:24:11.576347",
     "status": "completed"
    },
    "tags": []
   },
   "outputs": [
    {
     "data": {
      "text/plain": [
       "array(['United States', 'Vesper Boat Club', 'New York Athletic Club #2-4',\n",
       "       'Mystery', 'United States-1', 'United States-2',\n",
       "       'Mound City Rowing Club-2', 'La Salle Turnverein, Chicago',\n",
       "       'Gallant', 'United States-3', \"Christian Brothers' College-1\",\n",
       "       'Passaic Turnverein, Passaic', 'Bingo',\n",
       "       'Chicago Athletic Association-2', 'Widgeon',\n",
       "       'Davenport Turngemeinde, Davenport',\n",
       "       'Norwegier Turnverein, Brooklyn', 'Turnverein Vorwrts, Cleveland',\n",
       "       'New York Turnverein, New York', 'Angelita', 'United States-10',\n",
       "       'St. Rose-2', 'New York Athletic Club-1',\n",
       "       'St. Louis Southwest Turnverein #1-2', 'Chicago Archers',\n",
       "       'Rush IV', 'Boston Archers', 'Western Rowing Club-3',\n",
       "       'United States Golf Association-3',\n",
       "       'Trans-Mississippi Golf Association-2', 'New York Athletic Club-4',\n",
       "       'Complex II', 'United States-9', 'Babe', 'Cincinnati Archers',\n",
       "       'United States-6', 'Western Golf Association-1',\n",
       "       'New York Athletic Club #1-1', 'United States-7',\n",
       "       'United States/France', 'Aphrodite',\n",
       "       'Concordia Turnverein, St Louis', 'Century Boat Club-1',\n",
       "       'St. Louis Amateur Athletic Association', 'United States-14',\n",
       "       'Central Turnverein, Chicago', 'Rhythm',\n",
       "       'Turnverein Vorwrts, Chicago', 'Spirit III', 'Llanoria',\n",
       "       'Missouri Athletic Club-3', 'Seawanhaka Boat Club-1',\n",
       "       'Milwaukee Athletic Club-1', 'St. Louis Southwest Turnverein #2-3',\n",
       "       'Socialer Turnverein, Detroit', 'United States-4',\n",
       "       'Germany/United States', 'Jupiter',\n",
       "       'Philadelphia Turngemeinde, Philadelphia', 'Shrew II',\n",
       "       'Chicago Athletic Association', 'Milwaukee Turnverein, Milwaukee',\n",
       "       'Ravenswood Boat Club-2', 'Skidoo', 'Minotaur', 'United States-5',\n",
       "       'Angerburg', 'United States-8', 'United States/Great Britain',\n",
       "       'Foxhunters Hurlingham', 'Mythilus', 'Spirit VI',\n",
       "       'South St Louis Turnverein, St Louis', 'Kathleen',\n",
       "       'United States-12', 'Frimousse', 'Potomac Archers',\n",
       "       'BLO Polo Club, Rugby', 'Brentina', 'Three Star Too',\n",
       "       'United States-11', 'Frieda', 'Atalanta Boat Club-1',\n",
       "       'Atalanta Boat Club-2', 'New York Athletic Club', 'Tineke',\n",
       "       'Ravel', 'Margaret', 'Comanche', 'Independent Rowing Club-3',\n",
       "       'Union des Socits Franais de Sports Athletiques',\n",
       "       'United States-13', 'Vim III', 'Hilarius', 'Glider', 'Formosa',\n",
       "       'A North American Team'], dtype=object)"
      ]
     },
     "execution_count": 7,
     "metadata": {},
     "output_type": "execute_result"
    }
   ],
   "source": [
    "usa_noc = olympics_data.loc[olympics_data.NOC == 'USA']\n",
    "usa_noc.Team.unique()"
   ]
  },
  {
   "cell_type": "markdown",
   "id": "abc25618",
   "metadata": {
    "papermill": {
     "duration": 0.00941,
     "end_time": "2024-08-19T04:24:11.681913",
     "exception": false,
     "start_time": "2024-08-19T04:24:11.672503",
     "status": "completed"
    },
    "tags": []
   },
   "source": [
    "An example of a Sport (Judo) with multiple Events"
   ]
  },
  {
   "cell_type": "code",
   "execution_count": 8,
   "id": "ad0aabed",
   "metadata": {
    "execution": {
     "iopub.execute_input": "2024-08-19T04:24:11.703630Z",
     "iopub.status.busy": "2024-08-19T04:24:11.703161Z",
     "iopub.status.idle": "2024-08-19T04:24:11.771448Z",
     "shell.execute_reply": "2024-08-19T04:24:11.770244Z"
    },
    "papermill": {
     "duration": 0.081504,
     "end_time": "2024-08-19T04:24:11.774630",
     "exception": false,
     "start_time": "2024-08-19T04:24:11.693126",
     "status": "completed"
    },
    "tags": []
   },
   "outputs": [
    {
     "data": {
      "text/plain": [
       "array([\"Judo Men's Extra-Lightweight\", \"Judo Men's Half-Middleweight\",\n",
       "       \"Judo Men's Lightweight\", \"Judo Men's Heavyweight\",\n",
       "       \"Judo Women's Half-Middleweight\", \"Judo Women's Half-Heavyweight\",\n",
       "       \"Judo Men's Open Class\", \"Judo Men's Middleweight\",\n",
       "       \"Judo Men's Half-Lightweight\", \"Judo Men's Half-Heavyweight\",\n",
       "       \"Judo Women's Half-Lightweight\", \"Judo Women's Heavyweight\",\n",
       "       \"Judo Women's Extra-Lightweight\", \"Judo Women's Middleweight\",\n",
       "       \"Judo Women's Lightweight\"], dtype=object)"
      ]
     },
     "execution_count": 8,
     "metadata": {},
     "output_type": "execute_result"
    }
   ],
   "source": [
    "filtered_judo = olympics_data.loc[olympics_data.Sport == 'Judo']\n",
    "filtered_judo.Event.unique()"
   ]
  },
  {
   "cell_type": "markdown",
   "id": "113159f5",
   "metadata": {
    "papermill": {
     "duration": 0.007994,
     "end_time": "2024-08-19T04:24:11.794032",
     "exception": false,
     "start_time": "2024-08-19T04:24:11.786038",
     "status": "completed"
    },
    "tags": []
   },
   "source": [
    "Checking the validity of large \"Age\" data\n",
    "* There are a number of participants above age 60\n",
    "* I plotted a stripplot to see what Sports these elderly atheletes are engaged in: Art Competitions, Sailing, Equestrianism, Fencing, Archery, Roque\n",
    "* As Art Competitions are no longer considered a sport in the Olympic games, I will remove them when doing further analysis."
   ]
  },
  {
   "cell_type": "code",
   "execution_count": 9,
   "id": "07b05324",
   "metadata": {
    "execution": {
     "iopub.execute_input": "2024-08-19T04:24:11.812867Z",
     "iopub.status.busy": "2024-08-19T04:24:11.812437Z",
     "iopub.status.idle": "2024-08-19T04:24:13.226814Z",
     "shell.execute_reply": "2024-08-19T04:24:13.225560Z"
    },
    "papermill": {
     "duration": 1.426888,
     "end_time": "2024-08-19T04:24:13.229693",
     "exception": false,
     "start_time": "2024-08-19T04:24:11.802805",
     "status": "completed"
    },
    "tags": []
   },
   "outputs": [
    {
     "name": "stderr",
     "output_type": "stream",
     "text": [
      "/opt/conda/lib/python3.10/site-packages/seaborn/_oldcore.py:1119: FutureWarning: use_inf_as_na option is deprecated and will be removed in a future version. Convert inf values to NaN before operating instead.\n",
      "  with pd.option_context('mode.use_inf_as_na', True):\n"
     ]
    },
    {
     "data": {
      "text/plain": [
       "<Axes: xlabel='Age', ylabel='Count'>"
      ]
     },
     "execution_count": 9,
     "metadata": {},
     "output_type": "execute_result"
    },
    {
     "data": {
      "image/png": "[encoded data removed]",
      "text/plain": [
       "<Figure size 640x480 with 1 Axes>"
      ]
     },
     "metadata": {},
     "output_type": "display_data"
    }
   ],
   "source": [
    "sns.histplot(olympics_data['Age'])"
   ]
  },
  {
   "cell_type": "code",
   "execution_count": 10,
   "id": "1293ab46",
   "metadata": {
    "execution": {
     "iopub.execute_input": "2024-08-19T04:24:13.249373Z",
     "iopub.status.busy": "2024-08-19T04:24:13.248964Z",
     "iopub.status.idle": "2024-08-19T04:24:13.693548Z",
     "shell.execute_reply": "2024-08-19T04:24:13.692371Z"
    },
    "papermill": {
     "duration": 0.45781,
     "end_time": "2024-08-19T04:24:13.696516",
     "exception": false,
     "start_time": "2024-08-19T04:24:13.238706",
     "status": "completed"
    },
    "tags": []
   },
   "outputs": [
    {
     "name": "stderr",
     "output_type": "stream",
     "text": [
      "/opt/conda/lib/python3.10/site-packages/seaborn/_oldcore.py:1119: FutureWarning: use_inf_as_na option is deprecated and will be removed in a future version. Convert inf values to NaN before operating instead.\n",
      "  with pd.option_context('mode.use_inf_as_na', True):\n",
      "/opt/conda/lib/python3.10/site-packages/seaborn/_oldcore.py:1119: FutureWarning: use_inf_as_na option is deprecated and will be removed in a future version. Convert inf values to NaN before operating instead.\n",
      "  with pd.option_context('mode.use_inf_as_na', True):\n",
      "/opt/conda/lib/python3.10/site-packages/seaborn/_oldcore.py:1075: FutureWarning: When grouping with a length-1 list-like, you will need to pass a length-1 tuple to get_group in a future version of pandas. Pass `(name,)` instead of `name` to silence this warning.\n",
      "  data_subset = grouped_data.get_group(pd_key)\n"
     ]
    },
    {
     "data": {
      "text/plain": [
       "([0, 1, 2, 3, 4, 5, 6],\n",
       " [Text(0, 0, 'Art Competitions'),\n",
       "  Text(1, 0, 'Shooting'),\n",
       "  Text(2, 0, 'Sailing'),\n",
       "  Text(3, 0, 'Equestrianism'),\n",
       "  Text(4, 0, 'Fencing'),\n",
       "  Text(5, 0, 'Archery'),\n",
       "  Text(6, 0, 'Roque')])"
      ]
     },
     "execution_count": 10,
     "metadata": {},
     "output_type": "execute_result"
    },
    {
     "data": {
      "image/png": "[encoded data removed]",
      "text/plain": [
       "<Figure size 640x480 with 1 Axes>"
      ]
     },
     "metadata": {},
     "output_type": "display_data"
    }
   ],
   "source": [
    "filtered_age_above_60 = olympics_data.loc[olympics_data.Age > 60]\n",
    "sns.stripplot(x=filtered_age_above_60['Sport'], y=filtered_age_above_60['Age'])\n",
    "plt.xticks(rotation=45)"
   ]
  },
  {
   "cell_type": "code",
   "execution_count": 11,
   "id": "0188deaa",
   "metadata": {
    "execution": {
     "iopub.execute_input": "2024-08-19T04:24:13.719716Z",
     "iopub.status.busy": "2024-08-19T04:24:13.718426Z",
     "iopub.status.idle": "2024-08-19T04:24:13.849332Z",
     "shell.execute_reply": "2024-08-19T04:24:13.848052Z"
    },
    "papermill": {
     "duration": 0.146551,
     "end_time": "2024-08-19T04:24:13.852961",
     "exception": false,
     "start_time": "2024-08-19T04:24:13.706410",
     "status": "completed"
    },
    "tags": []
   },
   "outputs": [],
   "source": [
    "filtered_data = olympics_data[olympics_data.Season == 'Summer']\n",
    "grouped_data = filtered_data.groupby(['Year', 'Sex']).size().reset_index(name='Count')"
   ]
  },
  {
   "cell_type": "code",
   "execution_count": 12,
   "id": "64cb583b",
   "metadata": {
    "execution": {
     "iopub.execute_input": "2024-08-19T04:24:13.874903Z",
     "iopub.status.busy": "2024-08-19T04:24:13.874470Z",
     "iopub.status.idle": "2024-08-19T04:24:14.717329Z",
     "shell.execute_reply": "2024-08-19T04:24:14.715993Z"
    },
    "papermill": {
     "duration": 0.857079,
     "end_time": "2024-08-19T04:24:14.720337",
     "exception": false,
     "start_time": "2024-08-19T04:24:13.863258",
     "status": "completed"
    },
    "tags": []
   },
   "outputs": [
    {
     "data": {
      "text/plain": [
       "<matplotlib.legend.Legend at 0x7aef74143b80>"
      ]
     },
     "execution_count": 12,
     "metadata": {},
     "output_type": "execute_result"
    },
    {
     "data": {
      "image/png": "[encoded data removed]",
      "text/plain": [
       "<Figure size 1200x600 with 1 Axes>"
      ]
     },
     "metadata": {},
     "output_type": "display_data"
    }
   ],
   "source": [
    "# Create a plot\n",
    "plt.figure(figsize=(12, 6))\n",
    "sns.barplot(data=grouped_data, x='Year', y='Count', hue='Sex', palette='Set2')\n",
    "plt.title('Number of Male vs Female Athletes per Year')\n",
    "plt.xlabel('Year')\n",
    "plt.ylabel('Number of Athletes')\n",
    "plt.xticks(rotation=45)  # Rotate x-axis labels if needed\n",
    "plt.legend(title='Sex')"
   ]
  }
 ],
 "metadata": {
  "kaggle": {
   "accelerator": "none",
   "dataSources": [
    {
     "datasetId": 31029,
     "sourceId": 40943,
     "sourceType": "datasetVersion"
    }
   ],
   "dockerImageVersionId": 30746,
   "isGpuEnabled": false,
   "isInternetEnabled": false,
   "language": "python",
   "sourceType": "notebook"
  },
  "kernelspec": {
   "display_name": "Python 3",
   "language": "python",
   "name": "python3"
  },
  "language_info": {
   "codemirror_mode": {
    "name": "ipython",
    "version": 3
   },
   "file_extension": ".py",
   "mimetype": "text/x-python",
   "name": "python",
   "nbconvert_exporter": "python",
   "pygments_lexer": "ipython3",
   "version": "3.10.13"
  },
  "papermill": {
   "default_parameters": {},
   "duration": 12.787291,
   "end_time": "2024-08-19T04:24:15.453805",
   "environment_variables": {},
   "exception": null,
   "input_path": "__notebook__.ipynb",
   "output_path": "__notebook__.ipynb",
   "parameters": {},
   "start_time": "2024-08-19T04:24:02.666514",
   "version": "2.5.0"
  }
 },
 "nbformat": 4,
 "nbformat_minor": 5
}
